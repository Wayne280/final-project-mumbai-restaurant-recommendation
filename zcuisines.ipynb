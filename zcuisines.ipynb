{
 "cells": [
  {
   "cell_type": "code",
   "execution_count": 2,
   "metadata": {},
   "outputs": [],
   "source": [
    "import pandas as pd\n",
    "import numpy as np\n",
    "from sklearn.feature_extraction.text import CountVectorizer\n",
    "from sklearn.metrics.pairwise import cosine_similarity"
   ]
  },
  {
   "cell_type": "markdown",
   "metadata": {},
   "source": [
    "# Part 1: Showing the Dataset"
   ]
  },
  {
   "cell_type": "code",
   "execution_count": 3,
   "metadata": {},
   "outputs": [
    {
     "data": {
      "text/html": [
       "<div>\n",
       "<style scoped>\n",
       "    .dataframe tbody tr th:only-of-type {\n",
       "        vertical-align: middle;\n",
       "    }\n",
       "\n",
       "    .dataframe tbody tr th {\n",
       "        vertical-align: top;\n",
       "    }\n",
       "\n",
       "    .dataframe thead th {\n",
       "        text-align: right;\n",
       "    }\n",
       "</style>\n",
       "<table border=\"1\" class=\"dataframe\">\n",
       "  <thead>\n",
       "    <tr style=\"text-align: right;\">\n",
       "      <th></th>\n",
       "      <th>Additional_outlet_count</th>\n",
       "      <th>Call</th>\n",
       "      <th>Cost_for_two</th>\n",
       "      <th>Cuisines</th>\n",
       "      <th>Delivery_Time_min_order</th>\n",
       "      <th>Features</th>\n",
       "      <th>Home_Delivery</th>\n",
       "      <th>Operational_hours</th>\n",
       "      <th>Rating_votes</th>\n",
       "      <th>Restaurant_Location</th>\n",
       "      <th>Restaurant_Name</th>\n",
       "      <th>Restaurant_Type</th>\n",
       "      <th>View_Menu</th>\n",
       "    </tr>\n",
       "  </thead>\n",
       "  <tbody>\n",
       "    <tr>\n",
       "      <th>0</th>\n",
       "      <td>1 more outlet in Mumbai</td>\n",
       "      <td>True</td>\n",
       "      <td>₹1,500</td>\n",
       "      <td>Finger Food, Continental, European, Italian</td>\n",
       "      <td>NaN</td>\n",
       "      <td>Food Hygiene Rated Restaurants In Mumbai, Best...</td>\n",
       "      <td>False</td>\n",
       "      <td>12noon – 1am (Mon-Sun)</td>\n",
       "      <td>4.9                                        132...</td>\n",
       "      <td>Kamala Mills Compound</td>\n",
       "      <td>Lord of the Drinks</td>\n",
       "      <td>Lounge,Casual Dining</td>\n",
       "      <td>True</td>\n",
       "    </tr>\n",
       "    <tr>\n",
       "      <th>1</th>\n",
       "      <td>1 more outlet in Mumbai</td>\n",
       "      <td>True</td>\n",
       "      <td>₹800</td>\n",
       "      <td>Pizza</td>\n",
       "      <td>NaN</td>\n",
       "      <td>Value For Money, Best of Mumbai</td>\n",
       "      <td>False</td>\n",
       "      <td>11am – 12:30AM (Mon-Sun)</td>\n",
       "      <td>4.6                                        597...</td>\n",
       "      <td>Malad West</td>\n",
       "      <td>Joey's Pizza</td>\n",
       "      <td>Quick Bites</td>\n",
       "      <td>True</td>\n",
       "    </tr>\n",
       "    <tr>\n",
       "      <th>2</th>\n",
       "      <td>NaN</td>\n",
       "      <td>True</td>\n",
       "      <td>₹2,500</td>\n",
       "      <td>Seafood</td>\n",
       "      <td>NaN</td>\n",
       "      <td>Super Seafood, Best of Mumbai</td>\n",
       "      <td>False</td>\n",
       "      <td>Closed (Mon),12noon – 3pm, 7pm – 12midnight...</td>\n",
       "      <td>4.5                                        143...</td>\n",
       "      <td>Linking Road, Bandra West</td>\n",
       "      <td>Bastian</td>\n",
       "      <td>Casual Dining,Bar</td>\n",
       "      <td>True</td>\n",
       "    </tr>\n",
       "    <tr>\n",
       "      <th>3</th>\n",
       "      <td>NaN</td>\n",
       "      <td>True</td>\n",
       "      <td>₹1,800</td>\n",
       "      <td>Finger Food, Continental</td>\n",
       "      <td>NaN</td>\n",
       "      <td>Where's The Party?, Best of Mumbai, Food Hygie...</td>\n",
       "      <td>False</td>\n",
       "      <td>12noon – 1am (Mon-Sun)</td>\n",
       "      <td>4.9                                        327...</td>\n",
       "      <td>Lower Parel</td>\n",
       "      <td>Tamasha</td>\n",
       "      <td>Lounge,Bar</td>\n",
       "      <td>True</td>\n",
       "    </tr>\n",
       "    <tr>\n",
       "      <th>4</th>\n",
       "      <td>2 more outlets in Mumbai</td>\n",
       "      <td>True</td>\n",
       "      <td>₹450</td>\n",
       "      <td>North Indian, Street Food, Fast Food, Chinese</td>\n",
       "      <td>45 min                                        ...</td>\n",
       "      <td>NaN</td>\n",
       "      <td>True</td>\n",
       "      <td>12noon – 4pm, 7pm – 11:45pm (Mon-Sun)</td>\n",
       "      <td>4.1                                        142...</td>\n",
       "      <td>Vashi</td>\n",
       "      <td>Bhagat Tarachand</td>\n",
       "      <td>Casual Dining</td>\n",
       "      <td>True</td>\n",
       "    </tr>\n",
       "    <tr>\n",
       "      <th>...</th>\n",
       "      <td>...</td>\n",
       "      <td>...</td>\n",
       "      <td>...</td>\n",
       "      <td>...</td>\n",
       "      <td>...</td>\n",
       "      <td>...</td>\n",
       "      <td>...</td>\n",
       "      <td>...</td>\n",
       "      <td>...</td>\n",
       "      <td>...</td>\n",
       "      <td>...</td>\n",
       "      <td>...</td>\n",
       "      <td>...</td>\n",
       "    </tr>\n",
       "    <tr>\n",
       "      <th>7280</th>\n",
       "      <td>NaN</td>\n",
       "      <td>True</td>\n",
       "      <td>₹600</td>\n",
       "      <td>South Indian, North Indian, Chinese, Fast Food...</td>\n",
       "      <td>45 min                                        ...</td>\n",
       "      <td>NaN</td>\n",
       "      <td>True</td>\n",
       "      <td>8am – 12midnight (Mon-Sun)</td>\n",
       "      <td>3.5                                        115...</td>\n",
       "      <td>Chembur</td>\n",
       "      <td>Hotel Shreedevi</td>\n",
       "      <td>Casual Dining</td>\n",
       "      <td>True</td>\n",
       "    </tr>\n",
       "    <tr>\n",
       "      <th>7281</th>\n",
       "      <td>NaN</td>\n",
       "      <td>True</td>\n",
       "      <td>₹550</td>\n",
       "      <td>Fast Food, North Indian</td>\n",
       "      <td>20 min                                        ...</td>\n",
       "      <td>NaN</td>\n",
       "      <td>True</td>\n",
       "      <td>9am – 9pm (Mon, Wed, Thu, Fri, Sat, Sun), Clos...</td>\n",
       "      <td>3.5                                        121...</td>\n",
       "      <td>Pali Hill, Bandra West</td>\n",
       "      <td>Mac Craig</td>\n",
       "      <td>Quick Bites</td>\n",
       "      <td>True</td>\n",
       "    </tr>\n",
       "    <tr>\n",
       "      <th>7282</th>\n",
       "      <td>NaN</td>\n",
       "      <td>True</td>\n",
       "      <td>₹350</td>\n",
       "      <td>Fast Food, Beverages, Rolls</td>\n",
       "      <td>NaN</td>\n",
       "      <td>NaN</td>\n",
       "      <td>False</td>\n",
       "      <td>8am – 1:30am (Mon-Sun)</td>\n",
       "      <td>3.5                                        213...</td>\n",
       "      <td>Juhu</td>\n",
       "      <td>Ice n Rolls</td>\n",
       "      <td>Quick Bites</td>\n",
       "      <td>True</td>\n",
       "    </tr>\n",
       "    <tr>\n",
       "      <th>7283</th>\n",
       "      <td>NaN</td>\n",
       "      <td>True</td>\n",
       "      <td>₹2,000</td>\n",
       "      <td>Seafood, Chinese</td>\n",
       "      <td>40 min                                        ...</td>\n",
       "      <td>NaN</td>\n",
       "      <td>True</td>\n",
       "      <td>12noon – 12:30AM (Mon-Sun)</td>\n",
       "      <td>2.6                                        195...</td>\n",
       "      <td>Hotel King's International, Juhu</td>\n",
       "      <td>Temple Flower - Hotel Kings International</td>\n",
       "      <td>Casual Dining</td>\n",
       "      <td>True</td>\n",
       "    </tr>\n",
       "    <tr>\n",
       "      <th>7284</th>\n",
       "      <td>NaN</td>\n",
       "      <td>True</td>\n",
       "      <td>₹600</td>\n",
       "      <td>North Indian, Chinese, Seafood</td>\n",
       "      <td>NaN</td>\n",
       "      <td>NaN</td>\n",
       "      <td>False</td>\n",
       "      <td>11am – 12midnight (Mon-Sun)</td>\n",
       "      <td>3.4                                        53 ...</td>\n",
       "      <td>CBD-Belapur</td>\n",
       "      <td>Turning Point</td>\n",
       "      <td>Casual Dining</td>\n",
       "      <td>True</td>\n",
       "    </tr>\n",
       "  </tbody>\n",
       "</table>\n",
       "<p>7285 rows × 13 columns</p>\n",
       "</div>"
      ],
      "text/plain": [
       "       Additional_outlet_count  Call Cost_for_two  \\\n",
       "0      1 more outlet in Mumbai  True       ₹1,500   \n",
       "1      1 more outlet in Mumbai  True         ₹800   \n",
       "2                          NaN  True       ₹2,500   \n",
       "3                          NaN  True       ₹1,800   \n",
       "4     2 more outlets in Mumbai  True         ₹450   \n",
       "...                        ...   ...          ...   \n",
       "7280                       NaN  True         ₹600   \n",
       "7281                       NaN  True         ₹550   \n",
       "7282                       NaN  True         ₹350   \n",
       "7283                       NaN  True       ₹2,000   \n",
       "7284                       NaN  True         ₹600   \n",
       "\n",
       "                                               Cuisines  \\\n",
       "0           Finger Food, Continental, European, Italian   \n",
       "1                                                 Pizza   \n",
       "2                                               Seafood   \n",
       "3                              Finger Food, Continental   \n",
       "4         North Indian, Street Food, Fast Food, Chinese   \n",
       "...                                                 ...   \n",
       "7280  South Indian, North Indian, Chinese, Fast Food...   \n",
       "7281                            Fast Food, North Indian   \n",
       "7282                        Fast Food, Beverages, Rolls   \n",
       "7283                                   Seafood, Chinese   \n",
       "7284                     North Indian, Chinese, Seafood   \n",
       "\n",
       "                                Delivery_Time_min_order  \\\n",
       "0                                                   NaN   \n",
       "1                                                   NaN   \n",
       "2                                                   NaN   \n",
       "3                                                   NaN   \n",
       "4     45 min                                        ...   \n",
       "...                                                 ...   \n",
       "7280  45 min                                        ...   \n",
       "7281  20 min                                        ...   \n",
       "7282                                                NaN   \n",
       "7283  40 min                                        ...   \n",
       "7284                                                NaN   \n",
       "\n",
       "                                               Features  Home_Delivery  \\\n",
       "0     Food Hygiene Rated Restaurants In Mumbai, Best...          False   \n",
       "1                       Value For Money, Best of Mumbai          False   \n",
       "2                         Super Seafood, Best of Mumbai          False   \n",
       "3     Where's The Party?, Best of Mumbai, Food Hygie...          False   \n",
       "4                                                   NaN           True   \n",
       "...                                                 ...            ...   \n",
       "7280                                                NaN           True   \n",
       "7281                                                NaN           True   \n",
       "7282                                                NaN          False   \n",
       "7283                                                NaN           True   \n",
       "7284                                                NaN          False   \n",
       "\n",
       "                                      Operational_hours  \\\n",
       "0                                12noon – 1am (Mon-Sun)   \n",
       "1                              11am – 12:30AM (Mon-Sun)   \n",
       "2        Closed (Mon),12noon – 3pm, 7pm – 12midnight...   \n",
       "3                                12noon – 1am (Mon-Sun)   \n",
       "4                 12noon – 4pm, 7pm – 11:45pm (Mon-Sun)   \n",
       "...                                                 ...   \n",
       "7280                         8am – 12midnight (Mon-Sun)   \n",
       "7281  9am – 9pm (Mon, Wed, Thu, Fri, Sat, Sun), Clos...   \n",
       "7282                             8am – 1:30am (Mon-Sun)   \n",
       "7283                         12noon – 12:30AM (Mon-Sun)   \n",
       "7284                        11am – 12midnight (Mon-Sun)   \n",
       "\n",
       "                                           Rating_votes  \\\n",
       "0     4.9                                        132...   \n",
       "1     4.6                                        597...   \n",
       "2     4.5                                        143...   \n",
       "3     4.9                                        327...   \n",
       "4     4.1                                        142...   \n",
       "...                                                 ...   \n",
       "7280  3.5                                        115...   \n",
       "7281  3.5                                        121...   \n",
       "7282  3.5                                        213...   \n",
       "7283  2.6                                        195...   \n",
       "7284  3.4                                        53 ...   \n",
       "\n",
       "                   Restaurant_Location  \\\n",
       "0                Kamala Mills Compound   \n",
       "1                           Malad West   \n",
       "2            Linking Road, Bandra West   \n",
       "3                          Lower Parel   \n",
       "4                                Vashi   \n",
       "...                                ...   \n",
       "7280                           Chembur   \n",
       "7281            Pali Hill, Bandra West   \n",
       "7282                              Juhu   \n",
       "7283  Hotel King's International, Juhu   \n",
       "7284                       CBD-Belapur   \n",
       "\n",
       "                                Restaurant_Name       Restaurant_Type  \\\n",
       "0                            Lord of the Drinks  Lounge,Casual Dining   \n",
       "1                                  Joey's Pizza           Quick Bites   \n",
       "2                                       Bastian     Casual Dining,Bar   \n",
       "3                                       Tamasha            Lounge,Bar   \n",
       "4                              Bhagat Tarachand         Casual Dining   \n",
       "...                                         ...                   ...   \n",
       "7280                            Hotel Shreedevi         Casual Dining   \n",
       "7281                                  Mac Craig           Quick Bites   \n",
       "7282                                Ice n Rolls           Quick Bites   \n",
       "7283  Temple Flower - Hotel Kings International         Casual Dining   \n",
       "7284                              Turning Point         Casual Dining   \n",
       "\n",
       "      View_Menu  \n",
       "0          True  \n",
       "1          True  \n",
       "2          True  \n",
       "3          True  \n",
       "4          True  \n",
       "...         ...  \n",
       "7280       True  \n",
       "7281       True  \n",
       "7282       True  \n",
       "7283       True  \n",
       "7284       True  \n",
       "\n",
       "[7285 rows x 13 columns]"
      ]
     },
     "execution_count": 3,
     "metadata": {},
     "output_type": "execute_result"
    }
   ],
   "source": [
    "df = pd.read_csv('zomato_res.csv')\n",
    "df"
   ]
  },
  {
   "cell_type": "code",
   "execution_count": 4,
   "metadata": {},
   "outputs": [
    {
     "ename": "AttributeError",
     "evalue": "'list' object has no attribute 'get_feature_names'",
     "output_type": "error",
     "traceback": [
      "\u001b[1;31m---------------------------------------------------------------------------\u001b[0m",
      "\u001b[1;31mAttributeError\u001b[0m                            Traceback (most recent call last)",
      "\u001b[1;32m<ipython-input-4-d86dfc203e72>\u001b[0m in \u001b[0;36m<module>\u001b[1;34m\u001b[0m\n\u001b[1;32m----> 1\u001b[1;33m \u001b[1;33m[\u001b[0m\u001b[1;34m'Restaurant_Name'\u001b[0m\u001b[1;33m]\u001b[0m\u001b[1;33m.\u001b[0m\u001b[0mget_feature_names\u001b[0m\u001b[1;33m(\u001b[0m\u001b[1;33m)\u001b[0m\u001b[1;33m\u001b[0m\u001b[1;33m\u001b[0m\u001b[0m\n\u001b[0m",
      "\u001b[1;31mAttributeError\u001b[0m: 'list' object has no attribute 'get_feature_names'"
     ]
    }
   ],
   "source": [
    "['Restaurant_Name'].get_feature_names()"
   ]
  },
  {
   "cell_type": "markdown",
   "metadata": {},
   "source": [
    "# Part 2: Data Cleaning"
   ]
  },
  {
   "cell_type": "code",
   "execution_count": 39,
   "metadata": {},
   "outputs": [
    {
     "data": {
      "text/plain": [
       "Additional_outlet_count    6285\n",
       "Call                          0\n",
       "Cost_for_two                  0\n",
       "Cuisines                      1\n",
       "Delivery_Time_min_order    4771\n",
       "Features                   5695\n",
       "Home_Delivery                 0\n",
       "Operational_hours            12\n",
       "Rating_votes                  0\n",
       "Restaurant_Location          19\n",
       "Restaurant_Name               0\n",
       "Restaurant_Type             656\n",
       "View_Menu                     0\n",
       "dtype: int64"
      ]
     },
     "execution_count": 39,
     "metadata": {},
     "output_type": "execute_result"
    }
   ],
   "source": [
    "# Checking the Null Value\n",
    "df.isnull().sum()"
   ]
  },
  {
   "cell_type": "code",
   "execution_count": 3,
   "metadata": {},
   "outputs": [
    {
     "data": {
      "text/plain": [
       "Additional_outlet_count    1076\n",
       "Call                          0\n",
       "Cost_for_two                  0\n",
       "Cuisines                      0\n",
       "Delivery_Time_min_order     549\n",
       "Features                      0\n",
       "Home_Delivery                 0\n",
       "Operational_hours             0\n",
       "Rating_votes                  0\n",
       "Restaurant_Location           0\n",
       "Restaurant_Name               0\n",
       "Restaurant_Type               0\n",
       "View_Menu                     0\n",
       "dtype: int64"
      ]
     },
     "execution_count": 3,
     "metadata": {},
     "output_type": "execute_result"
    }
   ],
   "source": [
    "# Removing the Null Value of Cuisines and Features --> Because these two will be our main indicator\n",
    "df = df.dropna(subset=['Cuisines', 'Features', 'Restaurant_Type'])\n",
    "df.isnull().sum()"
   ]
  },
  {
   "cell_type": "markdown",
   "metadata": {},
   "source": [
    "# Part 3: Convert Data Into Vector"
   ]
  },
  {
   "cell_type": "code",
   "execution_count": 4,
   "metadata": {},
   "outputs": [
    {
     "data": {
      "text/plain": [
       "168"
      ]
     },
     "execution_count": 4,
     "metadata": {},
     "output_type": "execute_result"
    }
   ],
   "source": [
    "# # Checking on how much distinct Cuisines\n",
    "ext = CountVectorizer(tokenizer= lambda x: x.split(','))\n",
    "zcuisines = ext.fit_transform(df['Cuisines'].head(1316))\n",
    "len(ext.get_feature_names())"
   ]
  },
  {
   "cell_type": "code",
   "execution_count": 124,
   "metadata": {},
   "outputs": [
    {
     "name": "stdout",
     "output_type": "stream",
     "text": [
      "[[0 0 0 ... 0 0 0]\n",
      " [0 0 0 ... 0 0 0]\n",
      " [0 0 0 ... 0 0 0]\n",
      " ...\n",
      " [0 0 0 ... 0 0 0]\n",
      " [0 0 0 ... 0 0 0]\n",
      " [0 1 0 ... 0 0 0]]\n",
      "(1316, 168)\n"
     ]
    }
   ],
   "source": [
    "# Inserting the vector into an array and check the shape\n",
    "print(zcuisines.toarray())\n",
    "print(zcuisines.toarray().shape)"
   ]
  },
  {
   "cell_type": "code",
   "execution_count": null,
   "metadata": {},
   "outputs": [],
   "source": [
    "# Reset index in order for the restaurant that have the original index between 1317 and onwards\n",
    "#to be included in the Cosine Similarity\n",
    "\n",
    "#Formula:\n",
    "# df = df.reset_index()\n",
    "# del df['index']"
   ]
  },
  {
   "cell_type": "markdown",
   "metadata": {},
   "source": [
    "# Part 4: Cosine Similarity"
   ]
  },
  {
   "cell_type": "markdown",
   "metadata": {},
   "source": [
    "Cosine Similarity Formula = $ \\displaystyle \\frac {\\sum (_{n}A x _{n}B)} {\\sqrt {\\sum (_{n}A)^2} x \\sqrt {\\sum (_{n}B)^2}} $"
   ]
  },
  {
   "cell_type": "code",
   "execution_count": 131,
   "metadata": {},
   "outputs": [
    {
     "data": {
      "text/plain": [
       "array([1., 0., 0., ..., 0., 0., 0.])"
      ]
     },
     "execution_count": 131,
     "metadata": {},
     "output_type": "execute_result"
    }
   ],
   "source": [
    "# Measure the similarity between Cuisines using Cosine similarity\n",
    "cos_score = cosine_similarity(zcuisines)\n",
    "cos_score[0]"
   ]
  },
  {
   "cell_type": "markdown",
   "metadata": {},
   "source": [
    "# Part 5: Recommendation"
   ]
  },
  {
   "cell_type": "code",
   "execution_count": 132,
   "metadata": {},
   "outputs": [
    {
     "data": {
      "text/plain": [
       "1315"
      ]
     },
     "execution_count": 132,
     "metadata": {},
     "output_type": "execute_result"
    }
   ],
   "source": [
    "# Checking the Index of the favorite restaurant input by the user, assuming it is 'Waters 24 - Vintage Cafe' in this case\n",
    "resto_input = \"Waters 24 - Vintage Cafe\"\n",
    "resto_index = df[df['Restaurant_Name'] == resto_input].index[0]\n",
    "resto_index"
   ]
  },
  {
   "cell_type": "code",
   "execution_count": 134,
   "metadata": {},
   "outputs": [
    {
     "data": {
      "text/plain": [
       "(1315, 1.0000000000000002)"
      ]
     },
     "execution_count": 134,
     "metadata": {},
     "output_type": "execute_result"
    }
   ],
   "source": [
    "# Check if the index of favorite restaurant has 100% similarity or not\n",
    "a = list(enumerate(cos_score[resto_index]))\n",
    "a[resto_index]"
   ]
  },
  {
   "cell_type": "code",
   "execution_count": 135,
   "metadata": {},
   "outputs": [
    {
     "data": {
      "text/plain": [
       "[(141, 1.0000000000000002),\n",
       " (12, 0.8660254037844388),\n",
       " (146, 0.8660254037844388),\n",
       " (431, 0.816496580927726),\n",
       " (461, 0.816496580927726),\n",
       " (498, 0.816496580927726),\n",
       " (520, 0.816496580927726),\n",
       " (528, 0.816496580927726),\n",
       " (583, 0.816496580927726),\n",
       " (602, 0.816496580927726)]"
      ]
     },
     "execution_count": 135,
     "metadata": {},
     "output_type": "execute_result"
    }
   ],
   "source": [
    "# Ranking List\n",
    "resto_sug = sorted(a, key=lambda x:x[1], reverse=True)\n",
    "resto_sug.remove(a[resto_index])\n",
    "resto_sug[:10]"
   ]
  },
  {
   "cell_type": "code",
   "execution_count": 129,
   "metadata": {},
   "outputs": [
    {
     "name": "stdout",
     "output_type": "stream",
     "text": [
      "Bayview Cafe\n",
      "BKC | DIVE.\n",
      "The DanSing Bottle\n",
      "Hotel Sai Palace Garden\n",
      "Chawlas²\n",
      "The Bunker- Family Dining & Bar\n",
      "Cinnamon N Nutmeg\n",
      "Cinnamon N Nutmeg\n",
      "Kake Di Rasoi\n",
      "Red Sun Multicuisine Family Restaurant\n"
     ]
    }
   ],
   "source": [
    "# Restaurant Recommendation for the user (in this case'Waters 24 - Vintage Cafe')\n",
    "for i in resto_sug[:10]:\n",
    "    print(df.iloc[i[0]]['Restaurant_Name'])"
   ]
  },
  {
   "cell_type": "code",
   "execution_count": 1,
   "metadata": {},
   "outputs": [
    {
     "ename": "NameError",
     "evalue": "name 'ext' is not defined",
     "output_type": "error",
     "traceback": [
      "\u001b[1;31m---------------------------------------------------------------------------\u001b[0m",
      "\u001b[1;31mNameError\u001b[0m                                 Traceback (most recent call last)",
      "\u001b[1;32m<ipython-input-1-348287893e60>\u001b[0m in \u001b[0;36m<module>\u001b[1;34m\u001b[0m\n\u001b[1;32m----> 1\u001b[1;33m \u001b[0mext\u001b[0m\u001b[1;33m.\u001b[0m\u001b[0mget_feature_names\u001b[0m\u001b[1;33m(\u001b[0m\u001b[1;33m)\u001b[0m\u001b[1;33m\u001b[0m\u001b[1;33m\u001b[0m\u001b[0m\n\u001b[0m",
      "\u001b[1;31mNameError\u001b[0m: name 'ext' is not defined"
     ]
    }
   ],
   "source": []
  },
  {
   "cell_type": "code",
   "execution_count": null,
   "metadata": {},
   "outputs": [],
   "source": []
  }
 ],
 "metadata": {
  "kernelspec": {
   "display_name": "Python 3",
   "language": "python",
   "name": "python3"
  },
  "language_info": {
   "codemirror_mode": {
    "name": "ipython",
    "version": 3
   },
   "file_extension": ".py",
   "mimetype": "text/x-python",
   "name": "python",
   "nbconvert_exporter": "python",
   "pygments_lexer": "ipython3",
   "version": "3.8.1"
  }
 },
 "nbformat": 4,
 "nbformat_minor": 4
}
